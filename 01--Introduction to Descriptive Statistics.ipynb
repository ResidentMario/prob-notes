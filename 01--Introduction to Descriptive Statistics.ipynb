{
 "cells": [
  {
   "cell_type": "markdown",
   "metadata": {},
   "source": [
    "## Notes"
   ]
  },
  {
   "cell_type": "markdown",
   "metadata": {},
   "source": [
    "* **Expectation** is defined as the true mean of a distribution, typically denoted $E[X] = \\mu$.\n",
    "* **Sample expectation** is defined to be $E[X] = \\frac{1}{n} \\sum_{i=1}^n x_i$.\n",
    "* Sample expectation is an **estimator**.\n",
    "* Sample expectation an **unbiased estimator** because it converges to the true expectation (true mean) of a distribution over time.\n",
    "* **Variance** is defined as the expectation of squared difference from the mean: $Var(X) = \\sigma^2 =  E[(X-\\mu)^2]$.\n",
    "* $Var(X) = E[X^2] - (E[X])^2$, by theorem:"
   ]
  },
  {
   "cell_type": "markdown",
   "metadata": {},
   "source": [
    "$$Var(X)$$\n",
    "$$= E[(X-\\mu)^2]$$\n",
    "$$= E[(X-E[X])^2]$$\n",
    "$$= E[X^2 - 2XE[X] + E[X]^2]$$\n",
    "$$= E[X^2] - 2E[X]E[E[X]] + E[E[X]^2]$$\n",
    "$$= E[X^2] - 2E[X]^2 + E[X]^2 \\quad \\because E[E[X]] = E[X]$$\n",
    "$$= E[X^2] - E[X]^2$$"
   ]
  },
  {
   "cell_type": "markdown",
   "metadata": {},
   "source": [
    "* **Sample variance** is defined as $s^2 = \\sum_{i=1}^n \\dfrac{(x_i - \\bar{x})^2}{n-1}$.\n",
    "* Notice the use of a $n-1$ term, not an $n$ one, in the denominator. This is due to the phenomenon of **degrees of freedom**: one term has to be removed from the summation in order to account for the freedom to vary of certain variables. In general each parameter of a statistical test knocks off one degree of freedom.\n",
    "* Degrees of freedom are intrinsically hard to grasp, but I'm sure I'll figure our their intuition as I go along.\n",
    "* In this case we prove the correctness of this unbiased estimator:\n",
    "\n",
    "$$s^2 = \\sum_{i=1}^n \\dfrac{(x_i - \\bar{x})^2}{n-1}\\text{is correct iff } E[s^2] = \\sigma^2$$\n",
    "$$ E[s^2] $$\n",
    "$$ = E\\left[\\dfrac{\\sum_{i=1}^n(x_i - \\mu_x)^2}{n-1}\\right] $$\n",
    "$$ = \\dfrac{1}{n-1}E\\left[\\sum(x_i-\\mu_x)^2\\right] $$\n",
    "$$= \\dfrac{1}{n-1}\\left(E\\left[\\sum x_i^2\\right] - 2E\\left[\\mu_x \\sum x_i\\right] + E\\left[\\sum \\mu_x^2\\right]\\right)$$\n",
    "$$= \\dfrac{1}{n-1}\\left(E\\left[\\sum x_i^2\\right] - 2n E\\left[\\mu_x^2\\right] + n E\\left[\\mu_x^2\\right]\\right)$$\n",
    "$$= \\dfrac{1}{n-1}\\left(E\\left[nE\\left[x_i^2\\right]\\right]  - nE\\left[\\mu_x^2\\right]\\right)$$\n",
    "$$= \\dfrac{n}{n-1}\\left(E[x_i^2] - E[\\mu_x^2]\\right)\\text{ (1) }$$\n",
    "$$\\text{ }$$\n",
    "$$\\text{Lemma 1: $E[\\mu_x^2] = \\sigma^2(\\mu_x) + \\mu_x^2$.}$$\n",
    "$$\\text{ }$$\n",
    "$$\\text{Let $Y \\sim \\mu_x$.}$$\n",
    "$$\\sigma^2_y = E[Y^2] - E[Y]^2$$\n",
    "$$= E[Y^2] - \\mu_x^2 \\quad \\because Y \\sim \\mu_x \\implies E[Y] = E[\\mu_x] = \\mu_x$$\n",
    "$$\\therefore E[Y^2] = \\sigma_y^2 + \\mu_x^2$$\n",
    "$$\\therefore E[\\mu_x^2] = \\sigma^2(\\mu_x) + \\mu_x^2$$\n",
    "$$\\text{ }$$\n",
    "$$\\text{Lemma 2: $E[x_i^2] = \\mu_x^2 + \\sigma_x^2$.}$$\n",
    "$$\\text{ }$$\n",
    "$$\\sigma_x^2 = E[X_i]^2 - E[X_i^2]$$\n",
    "$$\\therefore E[x_i^2] = E[x_i]^2 - \\sigma_x^2 = \\mu_x^2 + \\sigma_x^2$$\n",
    "$$\\text{ }$$\n",
    "$$\\text{Substituting lemmas 1 and 2 into equation (1) we find:}$$\n",
    "$$\\text{ }$$\n",
    "$$E[s^2] = \\dfrac{n}{n-1}\\left(\\mu_x^2 + \\sigma_x^2 - \\frac{1}{n}\\sigma_x^2 - \\mu_x^2\\right)$$\n",
    "$$\\therefore E[s^2] = \\dfrac{n}{n-1}\\left(\\dfrac{n-1}{n}\\sigma_x^2\\right) = \\sigma_x^2$$\n",
    "$$\\text{QED.}$$"
   ]
  },
  {
   "cell_type": "markdown",
   "metadata": {
    "collapsed": true
   },
   "source": [
    "## Exercises"
   ]
  },
  {
   "cell_type": "markdown",
   "metadata": {},
   "source": [
    "Omitted."
   ]
  }
 ],
 "metadata": {
  "kernelspec": {
   "display_name": "Python 3",
   "language": "python",
   "name": "python3"
  },
  "language_info": {
   "codemirror_mode": {
    "name": "ipython",
    "version": 3
   },
   "file_extension": ".py",
   "mimetype": "text/x-python",
   "name": "python",
   "nbconvert_exporter": "python",
   "pygments_lexer": "ipython3",
   "version": "3.5.2"
  }
 },
 "nbformat": 4,
 "nbformat_minor": 0
}
