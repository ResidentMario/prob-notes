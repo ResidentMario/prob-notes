{
 "cells": [
  {
   "cell_type": "markdown",
   "metadata": {},
   "source": [
    "* Normal distribution, blah blah blah."
   ]
  },
  {
   "cell_type": "markdown",
   "metadata": {},
   "source": [
    "* The [De Moivre–Laplace theorem](https://en.wikipedia.org/wiki/De_Moivre%E2%80%93Laplace_theorem) is the special case of the Central Limit Theorem which proves the normal approximation to the binomial, which we now do.\n",
    "\n",
    "  The loosely phrased statement of the this theorem is that:\n",
    "\n",
    "  $$n\\to \\infty \\implies binom[n,p](\\cdot) \\to N[\\mu = np, \\sigma^2 = npq](\\cdot)$$ \n",
    "\n",
    "  Fix some point $x$ on the normal curve. Then there must be some $k(x)$ such that as $n$ varies, the left side of this equation approaches the right side. In other words, we may write more formally the following equivalent statement:\n",
    "  \n",
    "  $$\\exists k(x).\\;\\forall x.\\; \\lim_{n\\to\\infty}\\left(binom[n,p](k)\\right)=N[\\mu, \\sigma^2](x)$$\n",
    "  \n",
    "  Hypothesize that $k[n,p](x) = np + x\\sqrt{npq}$. This is the formula given to us, assuming the theorem holds, for a point always the same number of standard deviations from the mean. In other words, we must equivalently prove that:\n",
    "\n",
    "  $$\\forall x.\\; \\lim_{n\\to\\infty}\\left(binom[n,p](np + x\\sqrt{npq})\\right)=N[\\mu, \\sigma^2](x)$$\n",
    "  \n",
    "  $$binom[n,p](np + x\\sqrt{npq}) = \\binom{n}{k}p^k q^{n-k}$$\n",
    "  $$= \\frac{n!}{k!(n-k)!}p^k q^{n-k}$$\n",
    "  $$\\to \\frac{n^n e^{-n}\\sqrt{2\\pi n}}{k^k e^{-k}\\sqrt{2\\pi k}(n-k)^{n-k}e^{-(n-k)}\\sqrt{2\\pi (n-k)}}p^k q^{n-k}\\quad\\because n! \\to n^n e^{-n} \\sqrt{2\\pi n}\\text{ as } n \\to \\infty\\text{ (Stirling's formula)}$$\n",
    "  $$= \\sqrt{\\frac{n}{2\\pi k(n-k)}}\\left(\\frac{np}{k}\\right)^k\\left(\\frac{nq}{n-k}\\right)^{n-k}$$\n",
    "  $$\\to \\sqrt{\\frac{1}{2\\pi n\\frac{k}{n}(1-\\frac{k}{n})}}\\left(\\frac{np}{k}\\right)^k\\left(\\frac{nq}{n-k}\\right)^{n-k}\\quad\\because \\lim_{n\\to\\infty}(k)= \\lim_{n\\to\\infty}(np+x\\sqrt{npq}) = np$$\n",
    "  $$= \\frac{1}{\\sqrt{2\\pi npq}}\\exp\\left[{\\ln\\left(\\frac{np}{k}\\right)^k + \\ln\\left(\\frac{nq}{n-k}\\right)^{n-k}}\\right]$$\n",
    "  $$= (\\cdots)$$\n",
    "  \n",
    "  At this point we use the Taylor approximation for $ln(1+x) = x - \\frac{x^2}{2} + \\frac{x^3}{3} + \\cdots$ and a whole lot of algebraic manipulation to solve this problem.\n",
    "  \n",
    "  ![alt text](figures/snippet-1.png \"Logo Title Text 1\")\n",
    "  \n",
    "  $$= \\frac{1}{\\sqrt{2\\pi npq}}e^\\frac{-(k-np)^2}{2npq}$$\n",
    "  $$\\text{QED.}$$"
   ]
  },
  {
   "cell_type": "markdown",
   "metadata": {
    "collapsed": true
   },
   "source": [
    "* The **gamma family** of distributions provides a variety of skewed distributions useful for various things.\n",
    "* The **gamma function** is defined $\\Gamma (\\alpha) = \\int_0^\\infty x^{\\alpha - 1}e^{-x}dx$\n",
    "* Important properties of the gamma are:\n",
    "  * $\\alpha > 1 \\implies \\Gamma(\\alpha) = (\\alpha -1)\\Gamma(\\alpha -1)$\n",
    "  * $\\Gamma(n \\in \\mathbb{Z}^+)= (n-1)!$\n",
    "  * $\\Gamma(\\frac{1}{2}) = \\sqrt{\\pi}$"
   ]
  },
  {
   "cell_type": "markdown",
   "metadata": {},
   "source": [
    "*To prove these things, I need to do a refresher on Calc III.*"
   ]
  }
 ],
 "metadata": {
  "kernelspec": {
   "display_name": "Python 3",
   "language": "python",
   "name": "python3"
  },
  "language_info": {
   "codemirror_mode": {
    "name": "ipython",
    "version": 3
   },
   "file_extension": ".py",
   "mimetype": "text/x-python",
   "name": "python",
   "nbconvert_exporter": "python",
   "pygments_lexer": "ipython3",
   "version": "3.5.2"
  }
 },
 "nbformat": 4,
 "nbformat_minor": 0
}
